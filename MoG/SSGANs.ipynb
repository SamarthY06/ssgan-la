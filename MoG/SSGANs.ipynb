{
 "cells": [
  {
   "cell_type": "markdown",
   "metadata": {},
   "source": [
    "# This is the demo of SSGANs on MOG (mixture of gaussian) "
   ]
  },
  {
   "cell_type": "markdown",
   "metadata": {},
   "source": [
    "Load the needed package"
   ]
  },
  {
   "cell_type": "markdown",
   "metadata": {},
   "source": [
    "# Import and libraries"
   ]
  },
  {
   "cell_type": "code",
   "execution_count": 1,
   "metadata": {},
   "outputs": [],
   "source": [
    "%matplotlib inline\n",
    "import os\n",
    "import torch\n",
    "import torch.nn as nn\n",
    "import numpy as np\n",
    "import torch.optim as optim\n",
    "import torch.nn.functional as F\n",
    "import matplotlib\n",
    "import matplotlib.pyplot as plt\n",
    "import pandas as pd\n",
    "from mmd_metric import polynomial_mmd"
   ]
  },
  {
   "cell_type": "markdown",
   "metadata": {},
   "source": [
    "# Classes for SSGAN"
   ]
  },
  {
   "cell_type": "code",
   "execution_count": 2,
   "metadata": {},
   "outputs": [],
   "source": [
    "#######G network\n",
    "\n",
    "class G_guassian(nn.Module):\n",
    "\n",
    "    def __init__(self, nz):\n",
    "        super(G_guassian, self).__init__()\n",
    "\n",
    "        self.decode = nn.Sequential(\n",
    "            nn.Linear(nz,10),\n",
    "            nn.Tanh(),\n",
    "            nn.Linear(10, 10),\n",
    "            nn.Tanh(),\n",
    "            nn.Linear(10, 1),\n",
    "        )\n",
    "\n",
    "        self.__initialize_weights()\n",
    "\n",
    "    def forward(self, z, output=None):\n",
    "\n",
    "        output = self.decode(z)\n",
    "\n",
    "        return output\n",
    "\n",
    "    def __initialize_weights(self):\n",
    "        for m in self.modules():\n",
    "            if isinstance(m, nn.Conv2d):\n",
    "                m.weight.data.normal_(0.0, 0.02)\n",
    "            elif isinstance(m, nn.BatchNorm2d):\n",
    "                m.weight.data.normal_(1.0, 0.02)\n",
    "                m.bias.data.fill_(0)\n",
    "                \n",
    "\n",
    "#####D network\n",
    "class D_guassian(nn.Module):\n",
    "\n",
    "    def __init__(self, num_classes=4, MS=False, LA=False):\n",
    "        super(D_guassian, self).__init__()\n",
    "\n",
    "        self.MS = MS\n",
    "        self.LA = LA\n",
    "\n",
    "        self.encode = nn.Sequential(\n",
    "            nn.Linear(1, 10),\n",
    "            nn.Tanh(),\n",
    "            nn.Linear(10, 10),\n",
    "            nn.Tanh(),\n",
    "        )\n",
    "        self.gan_linear = nn.Linear(10, 1)\n",
    "        self.ss_linear = nn.Linear(10, num_classes)\n",
    "        self.ms_linear = nn.Linear(10, num_classes+1)\n",
    "        self.la_linear = nn.Linear(10, num_classes*2)\n",
    "\n",
    "        self.sigmoid = nn.Sigmoid()\n",
    "        self.__initialize_weights()\n",
    "\n",
    "    def forward(self, input):\n",
    "\n",
    "        x = self.encode(input)\n",
    "        \n",
    "        ss = self.ss_linear(x)\n",
    "        ms = self.ms_linear(x)\n",
    "        la = self.la_linear(x)\n",
    "        \n",
    "        s = self.gan_linear(x)\n",
    "        s = self.sigmoid(s)\n",
    "        \n",
    "        return s.squeeze(1), ss.squeeze(1), ms.squeeze(1), la.squeeze(1)\n",
    "\n",
    "    def __initialize_weights(self):\n",
    "        for m in self.modules():\n",
    "            if isinstance(m, nn.Conv2d):\n",
    "                m.weight.data.normal_(0.0, 0.02)\n",
    "            elif isinstance(m, nn.BatchNorm2d):\n",
    "                m.weight.data.normal_(1.0, 0.02)\n",
    "                m.bias.data.fill_(0)"
   ]
  },
  {
   "cell_type": "markdown",
   "metadata": {},
   "source": [
    "# Helper functions to plot the results"
   ]
  },
  {
   "cell_type": "code",
   "execution_count": 3,
   "metadata": {},
   "outputs": [],
   "source": [
    "def plot_density(flights,binwidth=0.1):\n",
    "    ax = plt.subplot(1,1,1)\n",
    "\n",
    "    # Draw the plot\n",
    "    ax.hist(flights, bins=int(180 / binwidth),\n",
    "            color='blue', edgecolor='black')\n",
    "\n",
    "    # Title and labels\n",
    "    ax.set_title('Histogram with Binwidth = %d' % binwidth, size=30)\n",
    "    ax.set_xlabel('Delay (min)', size=22)\n",
    "    ax.set_ylabel('Flights', size=22)\n",
    "\n",
    "    plt.tight_layout()\n",
    "    plt.show()"
   ]
  },
  {
   "cell_type": "markdown",
   "metadata": {},
   "source": [
    "# Runner"
   ]
  },
  {
   "cell_type": "code",
   "execution_count": null,
   "metadata": {},
   "outputs": [],
   "source": [
    "def train(data,nz,G,D,optd,optg,dis,name,lbd=1):\n",
    "    for _ in range(100):\n",
    "        for i in range(100):\n",
    "\n",
    "            #####D step\n",
    "            for _ in range(2):\n",
    "                real_data = torch.cat(\n",
    "                    [data[128 * i:128 * i + 128], data[128 * i:128 * i + 128] + dis, \n",
    "                     data[128 * i:128 * i + 128] + 2*dis, data[128 * i:128 * i + 128] + 3*dis],\n",
    "                    dim=0).unsqueeze(dim=1)\n",
    "                real_label = torch.cat([torch.ones(128).long()*0, torch.ones(128).long()*1, torch.ones(128).long()*2, torch.ones(128).long()*3], dim=0)\n",
    "\n",
    "                ###D\n",
    "                d_real, ss_real, ms_real, la_real = D(real_data)\n",
    "\n",
    "                z = torch.randn(128, nz)\n",
    "    \n",
    "                fake_data = G(z)\n",
    "                fake_data = torch.cat([fake_data, fake_data + dis, fake_data + 2*dis, fake_data + 3*dis], dim=0)\n",
    "                fake_label = torch.cat([torch.ones(128).long()*0, torch.ones(128).long()*1, torch.ones(128).long()*2, torch.ones(128).long()*3], dim=0)\n",
    "                d_fake, ss_fake, ms_fake, la_fake = D(fake_data)\n",
    "\n",
    "                if name == 'SSGAN':\n",
    "                    D_loss = F.binary_cross_entropy(d_real[:128], torch.ones(128)) + F.binary_cross_entropy(d_fake[:128], torch.zeros(128))\n",
    "                    D_loss += lbd * F.cross_entropy(ss_real, real_label)\n",
    "                elif name == 'SSGAN-MS':\n",
    "                    D_loss = F.binary_cross_entropy(d_real[:128], torch.ones(128)) + F.binary_cross_entropy(d_fake[:128], torch.zeros(128))\n",
    "                    D_loss += lbd * (F.cross_entropy(ms_real, real_label) + F.cross_entropy(ms_fake, torch.ones(128*4).long()*4))\n",
    "                elif name == 'SSGAN-LA':\n",
    "#                     D_loss = F.binary_cross_entropy(d_real[:128], torch.ones(128)) + F.binary_cross_entropy(d_fake[:128], torch.zeros(128))\n",
    "                    D_loss = lbd * (F.cross_entropy(la_real, real_label * 2) + F.cross_entropy(la_fake, fake_label * 2 + 1))\n",
    "\n",
    "                optd.zero_grad()\n",
    "                D_loss.backward()\n",
    "                optd.step()\n",
    "\n",
    "            #####G step\n",
    "            if i % 10 == 0:\n",
    "                z = torch.randn(128, nz)\n",
    "                fake_data = G(z)\n",
    "                fake_data = torch.cat([fake_data, fake_data + dis, fake_data + 2*dis, fake_data + 3*dis], dim=0)\n",
    "                real_label = torch.cat([torch.ones(128).long()*0, torch.ones(128).long()*1, torch.ones(128).long()*2, torch.ones(128).long()*3], dim=0)\n",
    "                d_fake, ss_fake, ms_fake, la_fake = D(fake_data)\n",
    "\n",
    "                if name == 'SSGAN':\n",
    "                    G_loss = F.binary_cross_entropy(d_fake[:128], torch.ones(128))\n",
    "                    G_loss += lbd * F.cross_entropy(ss_fake, real_label)\n",
    "                elif name == 'SSGAN-MS':\n",
    "                    G_loss = F.binary_cross_entropy(d_fake[:128], torch.ones(128))\n",
    "                    G_loss += lbd * (F.cross_entropy(ms_fake, real_label) - F.cross_entropy(ms_fake, torch.ones(128*4).long()*4))\n",
    "                elif name == 'SSGAN-LA':\n",
    "#                     G_loss = F.binary_cross_entropy(d_fake[:128], torch.ones(128))\n",
    "                    G_loss = lbd * (F.cross_entropy(la_fake, real_label * 2) - F.cross_entropy(la_fake, real_label * 2 + 1))\n",
    "\n",
    "                optg.zero_grad()\n",
    "                G_loss.backward()\n",
    "                optg.step()"
   ]
  },
  {
   "cell_type": "markdown",
   "metadata": {},
   "source": [
    "# Visualize and evaluation"
   ]
  },
  {
   "cell_type": "markdown",
   "metadata": {},
   "source": [
    "Running the 1-D MOG toy experiments of different distance between different gaussian components. Cost about 10 min in 1080ti"
   ]
  },
  {
   "cell_type": "code",
   "execution_count": null,
   "metadata": {},
   "outputs": [
    {
     "data": {
      "image/png": "[encoded data removed]",
      "text/plain": [
       "<Figure size 432x288 with 1 Axes>"
      ]
     },
     "metadata": {
      "needs_background": "light"
     },
     "output_type": "display_data"
    }
   ],
   "source": [
    "######create folder to save the result\n",
    "distance = 2\n",
    "if os.path.exists(os.path.join('MOG','1D', str(distance) + '_1D')):\n",
    "    pass\n",
    "else:\n",
    "    os.makedirs(os.path.join('MOG','1D', str(distance) + '_1D'))\n",
    "save_path = os.path.join('MOG','1D', str(distance) + '_1D')\n",
    "\n",
    "######Generate MOG data of different mean and variance\n",
    "data1 = torch.randn(12800)\n",
    "data2 = data1 + distance\n",
    "data3 = data2 + distance\n",
    "data4 = data3 + distance\n",
    "\n",
    "df1 = pd.DataFrame()\n",
    "df2 = pd.DataFrame()\n",
    "\n",
    "df1['score_{0}'.format(0)] = data1.cpu().numpy()\n",
    "df1['score_{0}'.format(1)] = data2.cpu().numpy()\n",
    "df1['score_{0}'.format(2)] = data3.cpu().numpy()\n",
    "df1['score_{0}'.format(3)] = data4.cpu().numpy()\n",
    "r_data = torch.cat([data1, data2, data3, data4], dim=0).cpu().numpy()\n",
    "df2['score_{0}'.format(3)] = r_data\n",
    "np.save(save_path+'/o_data',r_data)\n",
    "\n",
    "######Plot the distribution of original data\n",
    "fig, ax = plt.subplots(1, 1)\n",
    "for s in df1.columns:\n",
    "    df1[s].plot(kind='kde')\n",
    "\n",
    "# for s in df2.columns:\n",
    "#     df2[s].plot(style='--',kind='kde')\n",
    "plt.xlim((-4, 9 + distance * 2))\n",
    "plt.ylim((-0.03, 0.68))\n",
    "ax.legend([r\"$P_d=P_d^{T_1}$\", r\"$P_d^{T_2}$\", r\"$P_d^{T_3}$\", r\"$P_d^{T_4}$\"])\n",
    "# plt.title('Original')\n",
    "fig.savefig(save_path + '/original.eps')"
   ]
  },
  {
   "cell_type": "markdown",
   "metadata": {},
   "source": [
    "# Build Network"
   ]
  },
  {
   "cell_type": "code",
   "execution_count": null,
   "metadata": {},
   "outputs": [],
   "source": [
    "# name = \"SSGAN\"\n",
    "name = \"SSGAN-MS\"\n",
    "# name = \"SSGAN-LA\"\n",
    "        \n",
    "#####Bulding network\n",
    "nz = 2\n",
    "G = G_guassian(nz=nz)\n",
    "\n",
    "D = D_guassian(num_classes=4)\n",
    "\n",
    "optg = optim.Adam(G.parameters(), lr=0.001,\n",
    "                      betas=(0.5, 0.999))\n",
    "optd = optim.Adam(D.parameters(), lr=0.001,\n",
    "                      betas=(0.5, 0.999))"
   ]
  },
  {
   "cell_type": "code",
   "execution_count": null,
   "metadata": {},
   "outputs": [],
   "source": [
    "#####Train network\n",
    "train(data1,nz,G,D,optd,optg,dis=distance,name=name,lbd=1)\n",
    "print('Training finished')\n",
    "\n",
    "#####Sample data from Generator\n",
    "z = torch.randn(10000, nz)\n",
    "label = torch.zeros(10000).long()  # torch.LongTensor(10000).random_(2).cuda()#\n",
    "data_g = G(z=z).squeeze().cpu().detach()\n",
    "\n",
    "df1 = pd.DataFrame()\n",
    "df2 = pd.DataFrame()\n",
    "\n",
    "df1['score_{0}'.format(0)] = data_g.numpy()\n",
    "df1['score_{0}'.format(1)] = (data_g + distance).numpy()\n",
    "df1['score_{0}'.format(2)] = (data_g + distance*2).numpy()\n",
    "df1['score_{0}'.format(3)] = (data_g + distance*3).numpy()\n",
    "g_data = torch.cat([data_g, data_g + distance, data_g + distance*2, data_g + distance*3], dim=0).numpy()\n",
    "df2['score_{0}'.format(3)] = g_data\n",
    "\n",
    "#####Plot generated conditional distribution\n",
    "fig, ax = plt.subplots(1, 1)\n",
    "for s in df1.columns:\n",
    "    df1[s].plot(kind='kde')\n",
    "\n",
    "# for s in df2.columns:\n",
    "#     df2[s].plot(style='--',kind='kde')\n",
    "\n",
    "plt.xlim((-4, 9 + distance * 2))\n",
    "plt.ylim((-0.03, 0.68))\n",
    "ax.legend([r\"$P_g=P_g^{T_1}$\", r\"$P_g^{T_2}$\", r\"$P_g^{T_3}$\", r\"$P_g^{T_4}$\"])\n",
    "# plt.title(name)\n",
    "fig.savefig(save_path + '/'+name+'.eps')"
   ]
  },
  {
   "cell_type": "markdown",
   "metadata": {},
   "source": [
    "# Evaluate the MMD distance between true data and generated data"
   ]
  },
  {
   "cell_type": "code",
   "execution_count": null,
   "metadata": {},
   "outputs": [],
   "source": [
    "mean0_0,var0_0 = polynomial_mmd(np.expand_dims(data_g.numpy(), axis=1), np.expand_dims(data1.cpu().numpy(),axis=1))\n",
    "print('the distance is : ', mean0_0)"
   ]
  }
 ],
 "metadata": {
  "kernelspec": {
   "display_name": "Python 3",
   "language": "python",
   "name": "python3"
  },
  "language_info": {
   "codemirror_mode": {
    "name": "ipython",
    "version": 3
   },
   "file_extension": ".py",
   "mimetype": "text/x-python",
   "name": "python",
   "nbconvert_exporter": "python",
   "pygments_lexer": "ipython3",
   "version": "3.6.8"
  }
 },
 "nbformat": 4,
 "nbformat_minor": 2
}
